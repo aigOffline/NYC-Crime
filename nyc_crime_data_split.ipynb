{
  "nbformat": 4,
  "nbformat_minor": 0,
  "metadata": {
    "colab": {
      "name": "nyc-crime-data-split.ipynb",
      "provenance": [],
      "collapsed_sections": [],
      "authorship_tag": "ABX9TyM+DOfYEuiO51pBrDB/elWm",
      "include_colab_link": true
    },
    "kernelspec": {
      "name": "python3",
      "display_name": "Python 3"
    },
    "language_info": {
      "name": "python"
    }
  },
  "cells": [
    {
      "cell_type": "markdown",
      "metadata": {
        "id": "view-in-github",
        "colab_type": "text"
      },
      "source": [
        "<a href=\"https://colab.research.google.com/github/duketran1996/NYC-Crime/blob/main/nyc_crime_data_split.ipynb\" target=\"_parent\"><img src=\"https://colab.research.google.com/assets/colab-badge.svg\" alt=\"Open In Colab\"/></a>"
      ]
    },
    {
      "cell_type": "markdown",
      "metadata": {
        "id": "QxuYAPmJkQhh"
      },
      "source": [
        "**Setup PySpark**"
      ]
    },
    {
      "cell_type": "code",
      "metadata": {
        "id": "YPH9GHgEhzPP"
      },
      "source": [
        "#Install JAVA JDK\n",
        "!apt-get install openjdk-8-jdk-headless -qq > /dev/null\n",
        "\n",
        "#Install PySpark\n",
        "sparkfile = 'spark-3.1.1-bin-hadoop2.7.tgz'\n",
        "\n",
        "if not os.path.isfile(sparkfile):\n",
        "  !wget -q http://downloads.apache.org/spark/spark-3.1.1/$sparkfile\n",
        "\n",
        "!tar xf $sparkfile\n",
        "\n",
        "#Setup resources path\n",
        "import os\n",
        "os.environ[\"JAVA_HOME\"] = \"/usr/lib/jvm/java-8-openjdk-amd64\"\n",
        "os.environ[\"SPARK_HOME\"] = \"/content/spark-3.1.1-bin-hadoop2.7\""
      ],
      "execution_count": 134,
      "outputs": []
    },
    {
      "cell_type": "markdown",
      "metadata": {
        "id": "9t76NCugntdn"
      },
      "source": [
        "**Get NYPD Arrests Data (Historic)**"
      ]
    },
    {
      "cell_type": "code",
      "metadata": {
        "colab": {
          "base_uri": "https://localhost:8080/"
        },
        "id": "b9v85AOon2Lb",
        "outputId": "41bbb188-9edd-4018-e531-e2935fa4a48f"
      },
      "source": [
        "dataset_identifier = \"8h9b-rp9u.csv\"\n",
        "\n",
        "if not os.path.isfile(dataset_identifier):\n",
        "  !wget https://data.cityofnewyork.us/resource/$dataset_identifier"
      ],
      "execution_count": 135,
      "outputs": [
        {
          "output_type": "stream",
          "text": [
            "--2021-04-28 19:19:48--  https://data.cityofnewyork.us/resource/8h9b-rp9u.csv\n",
            "Resolving data.cityofnewyork.us (data.cityofnewyork.us)... 52.206.68.26, 52.206.140.205, 52.206.140.199\n",
            "Connecting to data.cityofnewyork.us (data.cityofnewyork.us)|52.206.68.26|:443... connected.\n",
            "HTTP request sent, awaiting response... 200 OK\n",
            "Length: unspecified [text/csv]\n",
            "Saving to: ‘8h9b-rp9u.csv’\n",
            "\n",
            "8h9b-rp9u.csv           [ <=>                ] 246.93K  --.-KB/s    in 0.04s   \n",
            "\n",
            "2021-04-28 19:19:48 (6.29 MB/s) - ‘8h9b-rp9u.csv’ saved [252855]\n",
            "\n"
          ],
          "name": "stdout"
        }
      ]
    },
    {
      "cell_type": "markdown",
      "metadata": {
        "id": "QsDbkFPPkVOr"
      },
      "source": [
        "**Create spark session**"
      ]
    },
    {
      "cell_type": "code",
      "metadata": {
        "id": "eOfny19Bj78u"
      },
      "source": [
        "from pyspark.sql import SparkSession\n",
        "\n",
        "spark = SparkSession.builder\\\n",
        "        .master(\"local\")\\\n",
        "        .appName(\"Crime Data Historic Split\")\\\n",
        "        .config('spark.ui.port', '4050')\\\n",
        "        .getOrCreate()"
      ],
      "execution_count": 136,
      "outputs": []
    },
    {
      "cell_type": "markdown",
      "metadata": {
        "id": "pXcJo2nJ48Ab"
      },
      "source": [
        "**Load data set as template view**"
      ]
    },
    {
      "cell_type": "code",
      "metadata": {
        "id": "R9sJUmLFj-Kp"
      },
      "source": [
        "nyc_crime = spark.read.format('csv').options(header='true',inferschema='true').load(dataset_identifier).createOrReplaceTempView(\"crime\")"
      ],
      "execution_count": 137,
      "outputs": []
    },
    {
      "cell_type": "markdown",
      "metadata": {
        "id": "HuBJ0YjT56jf"
      },
      "source": [
        "**Retrieve data 2016**"
      ]
    },
    {
      "cell_type": "code",
      "metadata": {
        "id": "z3c5PlGQ6Dp3"
      },
      "source": [
        "crime_2016 = spark.sql(\"SELECT * FROM crime where year(arrest_date) = '2016'\")\n",
        "\n",
        "crime_2016.write.csv('nypd_arrest_data_2016')"
      ],
      "execution_count": 139,
      "outputs": []
    },
    {
      "cell_type": "markdown",
      "metadata": {
        "id": "8lkBxzWP59_N"
      },
      "source": [
        "**Retrieve data 2017**"
      ]
    },
    {
      "cell_type": "code",
      "metadata": {
        "id": "TbD-PyK-6Lub"
      },
      "source": [
        "crime_2017 = spark.sql(\"SELECT * FROM crime where year(arrest_date) = '2017'\")\n",
        "\n",
        "crime_2017.write.csv('nypd_arrest_data_2017')"
      ],
      "execution_count": 140,
      "outputs": []
    },
    {
      "cell_type": "markdown",
      "metadata": {
        "id": "J1mem2a85_RP"
      },
      "source": [
        "**Retrieve data 2018**"
      ]
    },
    {
      "cell_type": "code",
      "metadata": {
        "id": "VzjSltIR6O0m"
      },
      "source": [
        "crime_2018 = spark.sql(\"SELECT * FROM crime where year(arrest_date) = '2018'\")\n",
        "\n",
        "crime_2018.write.csv('nypd_arrest_data_2018')"
      ],
      "execution_count": 141,
      "outputs": []
    },
    {
      "cell_type": "markdown",
      "metadata": {
        "id": "Gt936zw46Agb"
      },
      "source": [
        "**Retrieve data 2019**"
      ]
    },
    {
      "cell_type": "code",
      "metadata": {
        "id": "E0lPchkP6Rzt"
      },
      "source": [
        "crime_2019 = spark.sql(\"SELECT * FROM crime where year(arrest_date) = '2019'\")\n",
        "\n",
        "crime_2019.write.csv('nypd_arrest_data_2019')"
      ],
      "execution_count": 142,
      "outputs": []
    },
    {
      "cell_type": "markdown",
      "metadata": {
        "id": "TK1orFB46B4u"
      },
      "source": [
        "**Retrieve data 2020**"
      ]
    },
    {
      "cell_type": "code",
      "metadata": {
        "id": "hDpBwICn6U7x"
      },
      "source": [
        "crime_2020 = spark.sql(\"SELECT * FROM crime where year(arrest_date) = '2020'\")\n",
        "\n",
        "crime_2020.write.csv('nypd_arrest_data_2020')"
      ],
      "execution_count": 143,
      "outputs": []
    }
  ]
}