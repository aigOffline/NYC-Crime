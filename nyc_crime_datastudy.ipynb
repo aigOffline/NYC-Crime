{
  "nbformat": 4,
  "nbformat_minor": 0,
  "metadata": {
    "colab": {
      "name": "nyc-crime-datastudy.ipynb",
      "provenance": [],
      "collapsed_sections": [],
      "authorship_tag": "ABX9TyMTIIxpHWF4OlamF71xrPXO",
      "include_colab_link": true
    },
    "kernelspec": {
      "name": "python3",
      "display_name": "Python 3"
    },
    "language_info": {
      "name": "python"
    }
  },
  "cells": [
    {
      "cell_type": "markdown",
      "metadata": {
        "id": "view-in-github",
        "colab_type": "text"
      },
      "source": [
        "<a href=\"https://colab.research.google.com/github/duketran1996/NYC-Crime/blob/main/nyc_crime_datastudy.ipynb\" target=\"_parent\"><img src=\"https://colab.research.google.com/assets/colab-badge.svg\" alt=\"Open In Colab\"/></a>"
      ]
    },
    {
      "cell_type": "code",
      "metadata": {
        "colab": {
          "base_uri": "https://localhost:8080/"
        },
        "id": "KLI4ljm9gmKu",
        "outputId": "2b37afe7-e2bf-408f-a8fb-d82a4fcbb28f"
      },
      "source": [
        "pip install openclean-core"
      ],
      "execution_count": 35,
      "outputs": [
        {
          "output_type": "stream",
          "text": [
            "Requirement already satisfied: openclean-core in /usr/local/lib/python3.7/dist-packages (0.3.1)\n",
            "Requirement already satisfied: jsonschema>=3.2.0 in /usr/local/lib/python3.7/dist-packages (from openclean-core) (3.2.0)\n",
            "Requirement already satisfied: refdata>=0.2.0 in /usr/local/lib/python3.7/dist-packages (from openclean-core) (0.2.0)\n",
            "Requirement already satisfied: dill in /usr/local/lib/python3.7/dist-packages (from openclean-core) (0.3.3)\n",
            "Requirement already satisfied: pandas>=1.0.0 in /usr/local/lib/python3.7/dist-packages (from openclean-core) (1.1.5)\n",
            "Requirement already satisfied: scikit-learn in /usr/local/lib/python3.7/dist-packages (from openclean-core) (0.22.2.post1)\n",
            "Requirement already satisfied: flowserv-core>=0.8.0 in /usr/local/lib/python3.7/dist-packages (from openclean-core) (0.8.0)\n",
            "Requirement already satisfied: python-dateutil in /usr/local/lib/python3.7/dist-packages (from openclean-core) (2.8.1)\n",
            "Requirement already satisfied: histore==0.3.1 in /usr/local/lib/python3.7/dist-packages (from openclean-core) (0.3.1)\n",
            "Requirement already satisfied: jellyfish in /usr/local/lib/python3.7/dist-packages (from openclean-core) (0.8.2)\n",
            "Requirement already satisfied: scipy in /usr/local/lib/python3.7/dist-packages (from openclean-core) (1.4.1)\n",
            "Requirement already satisfied: requests in /usr/local/lib/python3.7/dist-packages (from openclean-core) (2.23.0)\n",
            "Requirement already satisfied: future in /usr/local/lib/python3.7/dist-packages (from openclean-core) (0.16.0)\n",
            "Requirement already satisfied: appdirs>=1.4.4 in /usr/local/lib/python3.7/dist-packages (from openclean-core) (1.4.4)\n",
            "Requirement already satisfied: pyrsistent>=0.14.0 in /usr/local/lib/python3.7/dist-packages (from jsonschema>=3.2.0->openclean-core) (0.17.3)\n",
            "Requirement already satisfied: six>=1.11.0 in /usr/local/lib/python3.7/dist-packages (from jsonschema>=3.2.0->openclean-core) (1.15.0)\n",
            "Requirement already satisfied: importlib-metadata; python_version < \"3.8\" in /usr/local/lib/python3.7/dist-packages (from jsonschema>=3.2.0->openclean-core) (3.8.1)\n",
            "Requirement already satisfied: attrs>=17.4.0 in /usr/local/lib/python3.7/dist-packages (from jsonschema>=3.2.0->openclean-core) (20.3.0)\n",
            "Requirement already satisfied: setuptools in /usr/local/lib/python3.7/dist-packages (from jsonschema>=3.2.0->openclean-core) (54.2.0)\n",
            "Requirement already satisfied: SQLAlchemy>=1.3.18 in /usr/local/lib/python3.7/dist-packages (from refdata>=0.2.0->openclean-core) (1.4.3)\n",
            "Requirement already satisfied: pooch>=1.3.0 in /usr/local/lib/python3.7/dist-packages (from refdata>=0.2.0->openclean-core) (1.3.0)\n",
            "Requirement already satisfied: datasize>=1.0.0 in /usr/local/lib/python3.7/dist-packages (from refdata>=0.2.0->openclean-core) (1.0.0)\n",
            "Requirement already satisfied: tableprint in /usr/local/lib/python3.7/dist-packages (from refdata>=0.2.0->openclean-core) (0.9.1)\n",
            "Requirement already satisfied: pyyaml>=5.1 in /usr/local/lib/python3.7/dist-packages (from refdata>=0.2.0->openclean-core) (5.4.1)\n",
            "Requirement already satisfied: Click>=7.0.0 in /usr/local/lib/python3.7/dist-packages (from refdata>=0.2.0->openclean-core) (7.1.2)\n",
            "Requirement already satisfied: numpy>=1.15.4 in /usr/local/lib/python3.7/dist-packages (from pandas>=1.0.0->openclean-core) (1.19.5)\n",
            "Requirement already satisfied: pytz>=2017.2 in /usr/local/lib/python3.7/dist-packages (from pandas>=1.0.0->openclean-core) (2018.9)\n",
            "Requirement already satisfied: joblib>=0.11 in /usr/local/lib/python3.7/dist-packages (from scikit-learn->openclean-core) (1.0.1)\n",
            "Requirement already satisfied: passlib in /usr/local/lib/python3.7/dist-packages (from flowserv-core>=0.8.0->openclean-core) (1.7.4)\n",
            "Requirement already satisfied: gitpython in /usr/local/lib/python3.7/dist-packages (from flowserv-core>=0.8.0->openclean-core) (3.1.14)\n",
            "Requirement already satisfied: psutil in /usr/local/lib/python3.7/dist-packages (from histore==0.3.1->openclean-core) (5.4.8)\n",
            "Requirement already satisfied: chardet<4,>=3.0.2 in /usr/local/lib/python3.7/dist-packages (from requests->openclean-core) (3.0.4)\n",
            "Requirement already satisfied: urllib3!=1.25.0,!=1.25.1,<1.26,>=1.21.1 in /usr/local/lib/python3.7/dist-packages (from requests->openclean-core) (1.24.3)\n",
            "Requirement already satisfied: certifi>=2017.4.17 in /usr/local/lib/python3.7/dist-packages (from requests->openclean-core) (2020.12.5)\n",
            "Requirement already satisfied: idna<3,>=2.5 in /usr/local/lib/python3.7/dist-packages (from requests->openclean-core) (2.10)\n",
            "Requirement already satisfied: zipp>=0.5 in /usr/local/lib/python3.7/dist-packages (from importlib-metadata; python_version < \"3.8\"->jsonschema>=3.2.0->openclean-core) (3.4.1)\n",
            "Requirement already satisfied: typing-extensions>=3.6.4; python_version < \"3.8\" in /usr/local/lib/python3.7/dist-packages (from importlib-metadata; python_version < \"3.8\"->jsonschema>=3.2.0->openclean-core) (3.7.4.3)\n",
            "Requirement already satisfied: greenlet!=0.4.17; python_version >= \"3\" in /usr/local/lib/python3.7/dist-packages (from SQLAlchemy>=1.3.18->refdata>=0.2.0->openclean-core) (1.0.0)\n",
            "Requirement already satisfied: packaging in /usr/local/lib/python3.7/dist-packages (from pooch>=1.3.0->refdata>=0.2.0->openclean-core) (20.9)\n",
            "Requirement already satisfied: wcwidth in /usr/local/lib/python3.7/dist-packages (from tableprint->refdata>=0.2.0->openclean-core) (0.2.5)\n",
            "Requirement already satisfied: gitdb<5,>=4.0.1 in /usr/local/lib/python3.7/dist-packages (from gitpython->flowserv-core>=0.8.0->openclean-core) (4.0.7)\n",
            "Requirement already satisfied: pyparsing>=2.0.2 in /usr/local/lib/python3.7/dist-packages (from packaging->pooch>=1.3.0->refdata>=0.2.0->openclean-core) (2.4.7)\n",
            "Requirement already satisfied: smmap<5,>=3.0.1 in /usr/local/lib/python3.7/dist-packages (from gitdb<5,>=4.0.1->gitpython->flowserv-core>=0.8.0->openclean-core) (4.0.0)\n"
          ],
          "name": "stdout"
        }
      ]
    },
    {
      "cell_type": "code",
      "metadata": {
        "colab": {
          "base_uri": "https://localhost:8080/"
        },
        "id": "hv7B7mo_n-Cq",
        "outputId": "bc91f9dc-b03d-4031-cc01-babd61254da7"
      },
      "source": [
        "pip install openclean-notebook"
      ],
      "execution_count": 36,
      "outputs": [
        {
          "output_type": "stream",
          "text": [
            "Requirement already satisfied: openclean-notebook in /usr/local/lib/python3.7/dist-packages (0.1.3)\n",
            "Requirement already satisfied: datamart-profiler==0.8.1 in /usr/local/lib/python3.7/dist-packages (from openclean-notebook) (0.8.1)\n",
            "Requirement already satisfied: openclean-core>=0.3.1 in /usr/local/lib/python3.7/dist-packages (from openclean-notebook) (0.3.1)\n",
            "Requirement already satisfied: future in /usr/local/lib/python3.7/dist-packages (from openclean-notebook) (0.16.0)\n",
            "Requirement already satisfied: jsonschema==3.2.0 in /usr/local/lib/python3.7/dist-packages (from openclean-notebook) (3.2.0)\n",
            "Requirement already satisfied: numpy in /usr/local/lib/python3.7/dist-packages (from datamart-profiler==0.8.1->openclean-notebook) (1.19.5)\n",
            "Requirement already satisfied: scikit-learn<0.24,>=0.22 in /usr/local/lib/python3.7/dist-packages (from datamart-profiler==0.8.1->openclean-notebook) (0.22.2.post1)\n",
            "Requirement already satisfied: python-dateutil in /usr/local/lib/python3.7/dist-packages (from datamart-profiler==0.8.1->openclean-notebook) (2.8.1)\n",
            "Requirement already satisfied: regex in /usr/local/lib/python3.7/dist-packages (from datamart-profiler==0.8.1->openclean-notebook) (2019.12.20)\n",
            "Requirement already satisfied: pandas in /usr/local/lib/python3.7/dist-packages (from datamart-profiler==0.8.1->openclean-notebook) (1.1.5)\n",
            "Requirement already satisfied: prometheus-client in /usr/local/lib/python3.7/dist-packages (from datamart-profiler==0.8.1->openclean-notebook) (0.9.0)\n",
            "Requirement already satisfied: requests in /usr/local/lib/python3.7/dist-packages (from datamart-profiler==0.8.1->openclean-notebook) (2.23.0)\n",
            "Requirement already satisfied: datamart-geo==0.2 in /usr/local/lib/python3.7/dist-packages (from datamart-profiler==0.8.1->openclean-notebook) (0.2)\n",
            "Requirement already satisfied: appdirs>=1.4.4 in /usr/local/lib/python3.7/dist-packages (from openclean-core>=0.3.1->openclean-notebook) (1.4.4)\n",
            "Requirement already satisfied: refdata>=0.2.0 in /usr/local/lib/python3.7/dist-packages (from openclean-core>=0.3.1->openclean-notebook) (0.2.0)\n",
            "Requirement already satisfied: histore==0.3.1 in /usr/local/lib/python3.7/dist-packages (from openclean-core>=0.3.1->openclean-notebook) (0.3.1)\n",
            "Requirement already satisfied: scipy in /usr/local/lib/python3.7/dist-packages (from openclean-core>=0.3.1->openclean-notebook) (1.4.1)\n",
            "Requirement already satisfied: dill in /usr/local/lib/python3.7/dist-packages (from openclean-core>=0.3.1->openclean-notebook) (0.3.3)\n",
            "Requirement already satisfied: jellyfish in /usr/local/lib/python3.7/dist-packages (from openclean-core>=0.3.1->openclean-notebook) (0.8.2)\n",
            "Requirement already satisfied: flowserv-core>=0.8.0 in /usr/local/lib/python3.7/dist-packages (from openclean-core>=0.3.1->openclean-notebook) (0.8.0)\n",
            "Requirement already satisfied: pyrsistent>=0.14.0 in /usr/local/lib/python3.7/dist-packages (from jsonschema==3.2.0->openclean-notebook) (0.17.3)\n",
            "Requirement already satisfied: six>=1.11.0 in /usr/local/lib/python3.7/dist-packages (from jsonschema==3.2.0->openclean-notebook) (1.15.0)\n",
            "Requirement already satisfied: setuptools in /usr/local/lib/python3.7/dist-packages (from jsonschema==3.2.0->openclean-notebook) (54.2.0)\n",
            "Requirement already satisfied: attrs>=17.4.0 in /usr/local/lib/python3.7/dist-packages (from jsonschema==3.2.0->openclean-notebook) (20.3.0)\n",
            "Requirement already satisfied: importlib-metadata; python_version < \"3.8\" in /usr/local/lib/python3.7/dist-packages (from jsonschema==3.2.0->openclean-notebook) (3.8.1)\n",
            "Requirement already satisfied: joblib>=0.11 in /usr/local/lib/python3.7/dist-packages (from scikit-learn<0.24,>=0.22->datamart-profiler==0.8.1->openclean-notebook) (1.0.1)\n",
            "Requirement already satisfied: pytz>=2017.2 in /usr/local/lib/python3.7/dist-packages (from pandas->datamart-profiler==0.8.1->openclean-notebook) (2018.9)\n",
            "Requirement already satisfied: chardet<4,>=3.0.2 in /usr/local/lib/python3.7/dist-packages (from requests->datamart-profiler==0.8.1->openclean-notebook) (3.0.4)\n",
            "Requirement already satisfied: certifi>=2017.4.17 in /usr/local/lib/python3.7/dist-packages (from requests->datamart-profiler==0.8.1->openclean-notebook) (2020.12.5)\n",
            "Requirement already satisfied: urllib3!=1.25.0,!=1.25.1,<1.26,>=1.21.1 in /usr/local/lib/python3.7/dist-packages (from requests->datamart-profiler==0.8.1->openclean-notebook) (1.24.3)\n",
            "Requirement already satisfied: idna<3,>=2.5 in /usr/local/lib/python3.7/dist-packages (from requests->datamart-profiler==0.8.1->openclean-notebook) (2.10)\n",
            "Requirement already satisfied: ngram-search in /usr/local/lib/python3.7/dist-packages (from datamart-geo==0.2->datamart-profiler==0.8.1->openclean-notebook) (0.1.2)\n",
            "Requirement already satisfied: pooch>=1.3.0 in /usr/local/lib/python3.7/dist-packages (from refdata>=0.2.0->openclean-core>=0.3.1->openclean-notebook) (1.3.0)\n",
            "Requirement already satisfied: tableprint in /usr/local/lib/python3.7/dist-packages (from refdata>=0.2.0->openclean-core>=0.3.1->openclean-notebook) (0.9.1)\n",
            "Requirement already satisfied: datasize>=1.0.0 in /usr/local/lib/python3.7/dist-packages (from refdata>=0.2.0->openclean-core>=0.3.1->openclean-notebook) (1.0.0)\n",
            "Requirement already satisfied: SQLAlchemy>=1.3.18 in /usr/local/lib/python3.7/dist-packages (from refdata>=0.2.0->openclean-core>=0.3.1->openclean-notebook) (1.4.3)\n",
            "Requirement already satisfied: Click>=7.0.0 in /usr/local/lib/python3.7/dist-packages (from refdata>=0.2.0->openclean-core>=0.3.1->openclean-notebook) (7.1.2)\n",
            "Requirement already satisfied: pyyaml>=5.1 in /usr/local/lib/python3.7/dist-packages (from refdata>=0.2.0->openclean-core>=0.3.1->openclean-notebook) (5.4.1)\n",
            "Requirement already satisfied: psutil in /usr/local/lib/python3.7/dist-packages (from histore==0.3.1->openclean-core>=0.3.1->openclean-notebook) (5.4.8)\n",
            "Requirement already satisfied: passlib in /usr/local/lib/python3.7/dist-packages (from flowserv-core>=0.8.0->openclean-core>=0.3.1->openclean-notebook) (1.7.4)\n",
            "Requirement already satisfied: gitpython in /usr/local/lib/python3.7/dist-packages (from flowserv-core>=0.8.0->openclean-core>=0.3.1->openclean-notebook) (3.1.14)\n",
            "Requirement already satisfied: zipp>=0.5 in /usr/local/lib/python3.7/dist-packages (from importlib-metadata; python_version < \"3.8\"->jsonschema==3.2.0->openclean-notebook) (3.4.1)\n",
            "Requirement already satisfied: typing-extensions>=3.6.4; python_version < \"3.8\" in /usr/local/lib/python3.7/dist-packages (from importlib-metadata; python_version < \"3.8\"->jsonschema==3.2.0->openclean-notebook) (3.7.4.3)\n",
            "Requirement already satisfied: packaging in /usr/local/lib/python3.7/dist-packages (from pooch>=1.3.0->refdata>=0.2.0->openclean-core>=0.3.1->openclean-notebook) (20.9)\n",
            "Requirement already satisfied: wcwidth in /usr/local/lib/python3.7/dist-packages (from tableprint->refdata>=0.2.0->openclean-core>=0.3.1->openclean-notebook) (0.2.5)\n",
            "Requirement already satisfied: greenlet!=0.4.17; python_version >= \"3\" in /usr/local/lib/python3.7/dist-packages (from SQLAlchemy>=1.3.18->refdata>=0.2.0->openclean-core>=0.3.1->openclean-notebook) (1.0.0)\n",
            "Requirement already satisfied: gitdb<5,>=4.0.1 in /usr/local/lib/python3.7/dist-packages (from gitpython->flowserv-core>=0.8.0->openclean-core>=0.3.1->openclean-notebook) (4.0.7)\n",
            "Requirement already satisfied: pyparsing>=2.0.2 in /usr/local/lib/python3.7/dist-packages (from packaging->pooch>=1.3.0->refdata>=0.2.0->openclean-core>=0.3.1->openclean-notebook) (2.4.7)\n",
            "Requirement already satisfied: smmap<5,>=3.0.1 in /usr/local/lib/python3.7/dist-packages (from gitdb<5,>=4.0.1->gitpython->flowserv-core>=0.8.0->openclean-core>=0.3.1->openclean-notebook) (4.0.0)\n"
          ],
          "name": "stdout"
        }
      ]
    },
    {
      "cell_type": "code",
      "metadata": {
        "id": "c-tcwPjlkpkp"
      },
      "source": [
        "import sys\n",
        "import re\n",
        "import numpy as np\n",
        "\n",
        "from csv import reader\n",
        "from datetime import *\n",
        "import seaborn as sns\n",
        "import gzip\n",
        "import folium\n",
        "from folium.plugins import HeatMap\n",
        "from random import sample \n",
        "import pandas as pd # data processing and manipulation\n",
        "import plotly.express as px\n",
        "import matplotlib.pyplot as plt\n",
        "import pprint\n",
        "import os, re\n",
        "\n",
        "\n",
        "pp = pprint.PrettyPrinter(indent=2)"
      ],
      "execution_count": 37,
      "outputs": []
    },
    {
      "cell_type": "code",
      "metadata": {
        "id": "1nI9Hi2LiJtk"
      },
      "source": [
        "import gzip\n",
        "import os\n",
        "\n",
        "from openclean.data.source.socrata import Socrata\n",
        "\n",
        "datafile = './uip8-fykc.tsv.gz'\n",
        "\n",
        "# Download file only if it does not exist already.\n",
        "if not os.path.isfile(datafile):\n",
        "    with gzip.open(datafile, 'wb') as f:\n",
        "        ds = Socrata().dataset('uip8-fykc')\n",
        "        print('Downloading ...\\n')\n",
        "        print(ds.name + '\\n')\n",
        "        print(ds.description)\n",
        "        ds.write(f)"
      ],
      "execution_count": 41,
      "outputs": []
    },
    {
      "cell_type": "code",
      "metadata": {
        "id": "vNHDmBAQjrl8"
      },
      "source": [
        "from openclean.pipeline import stream\n",
        "\n",
        "ds = stream(datafile)\n",
        "\n",
        "df = ds.to_df()"
      ],
      "execution_count": 42,
      "outputs": []
    },
    {
      "cell_type": "code",
      "metadata": {
        "colab": {
          "base_uri": "https://localhost:8080/",
          "height": 278
        },
        "id": "AcNK6vhki-XJ",
        "outputId": "288ac726-b725-40ac-cf04-64b84ace641f"
      },
      "source": [
        "df.describe()"
      ],
      "execution_count": null,
      "outputs": [
        {
          "output_type": "execute_result",
          "data": {
            "text/html": [
              "<div>\n",
              "<style scoped>\n",
              "    .dataframe tbody tr th:only-of-type {\n",
              "        vertical-align: middle;\n",
              "    }\n",
              "\n",
              "    .dataframe tbody tr th {\n",
              "        vertical-align: top;\n",
              "    }\n",
              "\n",
              "    .dataframe thead th {\n",
              "        text-align: right;\n",
              "    }\n",
              "</style>\n",
              "<table border=\"1\" class=\"dataframe\">\n",
              "  <thead>\n",
              "    <tr style=\"text-align: right;\">\n",
              "      <th></th>\n",
              "      <th>ARREST_KEY</th>\n",
              "      <th>ARREST_DATE</th>\n",
              "      <th>PD_CD</th>\n",
              "      <th>PD_DESC</th>\n",
              "      <th>KY_CD</th>\n",
              "      <th>OFNS_DESC</th>\n",
              "      <th>LAW_CODE</th>\n",
              "      <th>LAW_CAT_CD</th>\n",
              "      <th>ARREST_BORO</th>\n",
              "      <th>ARREST_PRECINCT</th>\n",
              "      <th>JURISDICTION_CODE</th>\n",
              "      <th>AGE_GROUP</th>\n",
              "      <th>PERP_SEX</th>\n",
              "      <th>PERP_RACE</th>\n",
              "      <th>X_COORD_CD</th>\n",
              "      <th>Y_COORD_CD</th>\n",
              "      <th>Latitude</th>\n",
              "      <th>Longitude</th>\n",
              "      <th>New Georeferenced Column</th>\n",
              "    </tr>\n",
              "  </thead>\n",
              "  <tbody>\n",
              "    <tr>\n",
              "      <th>count</th>\n",
              "      <td>140413</td>\n",
              "      <td>140413</td>\n",
              "      <td>140413</td>\n",
              "      <td>140413</td>\n",
              "      <td>140413</td>\n",
              "      <td>140413</td>\n",
              "      <td>140413</td>\n",
              "      <td>140413</td>\n",
              "      <td>140413</td>\n",
              "      <td>140413</td>\n",
              "      <td>140413</td>\n",
              "      <td>140413</td>\n",
              "      <td>140413</td>\n",
              "      <td>140413</td>\n",
              "      <td>140413</td>\n",
              "      <td>140413</td>\n",
              "      <td>140413</td>\n",
              "      <td>140413</td>\n",
              "      <td>140413</td>\n",
              "    </tr>\n",
              "    <tr>\n",
              "      <th>unique</th>\n",
              "      <td>140413</td>\n",
              "      <td>366</td>\n",
              "      <td>251</td>\n",
              "      <td>237</td>\n",
              "      <td>66</td>\n",
              "      <td>62</td>\n",
              "      <td>952</td>\n",
              "      <td>5</td>\n",
              "      <td>5</td>\n",
              "      <td>77</td>\n",
              "      <td>24</td>\n",
              "      <td>5</td>\n",
              "      <td>2</td>\n",
              "      <td>7</td>\n",
              "      <td>25422</td>\n",
              "      <td>27076</td>\n",
              "      <td>31207</td>\n",
              "      <td>31208</td>\n",
              "      <td>31208</td>\n",
              "    </tr>\n",
              "    <tr>\n",
              "      <th>top</th>\n",
              "      <td>208860473</td>\n",
              "      <td>06/01/2020</td>\n",
              "      <td>101</td>\n",
              "      <td>ASSAULT 3</td>\n",
              "      <td>344</td>\n",
              "      <td>ASSAULT 3 &amp; RELATED OFFENSES</td>\n",
              "      <td>PL 1200001</td>\n",
              "      <td>M</td>\n",
              "      <td>K</td>\n",
              "      <td>40</td>\n",
              "      <td>0</td>\n",
              "      <td>25-44</td>\n",
              "      <td>M</td>\n",
              "      <td>BLACK</td>\n",
              "      <td>1017119</td>\n",
              "      <td>183909</td>\n",
              "      <td>40.67141166300007</td>\n",
              "      <td>-73.88151172399995</td>\n",
              "      <td>POINT (-73.88151172399995 40.67141166300007)</td>\n",
              "    </tr>\n",
              "    <tr>\n",
              "      <th>freq</th>\n",
              "      <td>1</td>\n",
              "      <td>783</td>\n",
              "      <td>17580</td>\n",
              "      <td>17580</td>\n",
              "      <td>23731</td>\n",
              "      <td>23731</td>\n",
              "      <td>17123</td>\n",
              "      <td>73015</td>\n",
              "      <td>38258</td>\n",
              "      <td>4379</td>\n",
              "      <td>128721</td>\n",
              "      <td>77393</td>\n",
              "      <td>116933</td>\n",
              "      <td>69205</td>\n",
              "      <td>1176</td>\n",
              "      <td>1175</td>\n",
              "      <td>1174</td>\n",
              "      <td>1174</td>\n",
              "      <td>1174</td>\n",
              "    </tr>\n",
              "  </tbody>\n",
              "</table>\n",
              "</div>"
            ],
            "text/plain": [
              "       ARREST_KEY  ...                      New Georeferenced Column\n",
              "count      140413  ...                                        140413\n",
              "unique     140413  ...                                         31208\n",
              "top     208860473  ...  POINT (-73.88151172399995 40.67141166300007)\n",
              "freq            1  ...                                          1174\n",
              "\n",
              "[4 rows x 19 columns]"
            ]
          },
          "metadata": {
            "tags": []
          },
          "execution_count": 10
        }
      ]
    },
    {
      "cell_type": "code",
      "metadata": {
        "colab": {
          "base_uri": "https://localhost:8080/",
          "height": 386
        },
        "id": "euqWMSfnkffr",
        "outputId": "74a75c2e-573b-46f7-82bb-cd17079dc8b7"
      },
      "source": [
        "def order_labels(age_group_labels):\n",
        "#     \"\"\"Returns age_group label sorted in ascending order\"\"\"\n",
        "    ordered_labels = sorted(list(age_group_labels))\n",
        "    last_item = ordered_labels.pop()\n",
        "    ordered_labels.insert(0, last_item)\n",
        "    return ordered_labels\n",
        "    \n",
        "age_group_labels = order_labels(df.AGE_GROUP.unique())\n",
        "\n",
        "sns.countplot(df['AGE_GROUP'], order=age_group_labels)"
      ],
      "execution_count": null,
      "outputs": [
        {
          "output_type": "stream",
          "text": [
            "/usr/local/lib/python3.7/dist-packages/seaborn/_decorators.py:43: FutureWarning:\n",
            "\n",
            "Pass the following variable as a keyword arg: x. From version 0.12, the only valid positional argument will be `data`, and passing other arguments without an explicit keyword will result in an error or misinterpretation.\n",
            "\n"
          ],
          "name": "stderr"
        },
        {
          "output_type": "execute_result",
          "data": {
            "text/plain": [
              "<matplotlib.axes._subplots.AxesSubplot at 0x7fe1a2353650>"
            ]
          },
          "metadata": {
            "tags": []
          },
          "execution_count": 13
        },
        {
          "output_type": "display_data",
          "data": {
            "image/png": "[encoded data removed]",
            "text/plain": [
              "<Figure size 432x288 with 1 Axes>"
            ]
          },
          "metadata": {
            "tags": [],
            "needs_background": "light"
          }
        }
      ]
    },
    {
      "cell_type": "code",
      "metadata": {
        "colab": {
          "base_uri": "https://localhost:8080/",
          "height": 385
        },
        "id": "Tf-TfA-zktfH",
        "outputId": "09c7e798-1f7f-48e2-8c6b-3c87011da272"
      },
      "source": [
        "#gender\n",
        "sns.countplot(df['PERP_SEX'], )"
      ],
      "execution_count": null,
      "outputs": [
        {
          "output_type": "stream",
          "text": [
            "/usr/local/lib/python3.7/dist-packages/seaborn/_decorators.py:43: FutureWarning:\n",
            "\n",
            "Pass the following variable as a keyword arg: x. From version 0.12, the only valid positional argument will be `data`, and passing other arguments without an explicit keyword will result in an error or misinterpretation.\n",
            "\n"
          ],
          "name": "stderr"
        },
        {
          "output_type": "execute_result",
          "data": {
            "text/plain": [
              "<matplotlib.axes._subplots.AxesSubplot at 0x7fe1a1bb9490>"
            ]
          },
          "metadata": {
            "tags": []
          },
          "execution_count": 14
        },
        {
          "output_type": "display_data",
          "data": {
            "image/png": "[encoded data removed]",
            "text/plain": [
              "<Figure size 432x288 with 1 Axes>"
            ]
          },
          "metadata": {
            "tags": [],
            "needs_background": "light"
          }
        }
      ]
    },
    {
      "cell_type": "code",
      "metadata": {
        "colab": {
          "base_uri": "https://localhost:8080/",
          "height": 538
        },
        "id": "slDdWtppkz7m",
        "outputId": "5aaed158-3c69-417b-de6f-cc02429d19de"
      },
      "source": [
        "#Race\n",
        "plot_race = sns.countplot(df['PERP_RACE'], )\n",
        "tick_labels = plot_race.get_xticklabels()\n",
        "plot_race = plot_race.set_xticklabels(tick_labels, rotation=90)"
      ],
      "execution_count": null,
      "outputs": [
        {
          "output_type": "stream",
          "text": [
            "/usr/local/lib/python3.7/dist-packages/seaborn/_decorators.py:43: FutureWarning:\n",
            "\n",
            "Pass the following variable as a keyword arg: x. From version 0.12, the only valid positional argument will be `data`, and passing other arguments without an explicit keyword will result in an error or misinterpretation.\n",
            "\n"
          ],
          "name": "stderr"
        },
        {
          "output_type": "display_data",
          "data": {
            "image/png": "[encoded data removed]",
            "text/plain": [
              "<Figure size 432x288 with 1 Axes>"
            ]
          },
          "metadata": {
            "tags": [],
            "needs_background": "light"
          }
        }
      ]
    },
    {
      "cell_type": "code",
      "metadata": {
        "colab": {
          "base_uri": "https://localhost:8080/",
          "height": 388
        },
        "id": "Egya_S6qk4GX",
        "outputId": "a5b175c8-20b6-4a56-8f17-7e63125e1625"
      },
      "source": [
        "sns.countplot(df['ARREST_BORO'], )"
      ],
      "execution_count": null,
      "outputs": [
        {
          "output_type": "stream",
          "text": [
            "/usr/local/lib/python3.7/dist-packages/seaborn/_decorators.py:43: FutureWarning:\n",
            "\n",
            "Pass the following variable as a keyword arg: x. From version 0.12, the only valid positional argument will be `data`, and passing other arguments without an explicit keyword will result in an error or misinterpretation.\n",
            "\n"
          ],
          "name": "stderr"
        },
        {
          "output_type": "execute_result",
          "data": {
            "text/plain": [
              "<matplotlib.axes._subplots.AxesSubplot at 0x7fe1a149af90>"
            ]
          },
          "metadata": {
            "tags": []
          },
          "execution_count": 16
        },
        {
          "output_type": "display_data",
          "data": {
            "image/png": "[encoded data removed]",
            "text/plain": [
              "<Figure size 432x288 with 1 Axes>"
            ]
          },
          "metadata": {
            "tags": [],
            "needs_background": "light"
          }
        }
      ]
    },
    {
      "cell_type": "code",
      "metadata": {
        "colab": {
          "base_uri": "https://localhost:8080/",
          "height": 298
        },
        "id": "aM_BxdjjlCSZ",
        "outputId": "f448fc1c-d7a9-48af-a2f6-743e647a6704"
      },
      "source": [
        "df['ARREST_DATE'].value_counts().plot(kind=\"line\", title = \"Total Crime Events by Year\")"
      ],
      "execution_count": null,
      "outputs": [
        {
          "output_type": "execute_result",
          "data": {
            "text/plain": [
              "<matplotlib.axes._subplots.AxesSubplot at 0x7fe19ce31950>"
            ]
          },
          "metadata": {
            "tags": []
          },
          "execution_count": 18
        },
        {
          "output_type": "display_data",
          "data": {
            "image/png": "[encoded data removed]",
            "text/plain": [
              "<Figure size 432x288 with 1 Axes>"
            ]
          },
          "metadata": {
            "tags": [],
            "needs_background": "light"
          }
        }
      ]
    }
  ]
}