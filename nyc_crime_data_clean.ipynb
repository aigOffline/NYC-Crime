{
  "nbformat": 4,
  "nbformat_minor": 0,
  "metadata": {
    "colab": {
      "name": "nyc-crime-data-clean.ipynb",
      "provenance": [],
      "collapsed_sections": [],
      "include_colab_link": true
    },
    "kernelspec": {
      "name": "python3",
      "display_name": "Python 3"
    },
    "language_info": {
      "name": "python"
    }
  },
  "cells": [
    {
      "cell_type": "markdown",
      "metadata": {
        "id": "view-in-github",
        "colab_type": "text"
      },
      "source": [
        "<a href=\"https://colab.research.google.com/github/duketran1996/NYC-Crime/blob/main/nyc_crime_data_clean.ipynb\" target=\"_parent\"><img src=\"https://colab.research.google.com/assets/colab-badge.svg\" alt=\"Open In Colab\"/></a>"
      ]
    },
    {
      "cell_type": "markdown",
      "metadata": {
        "id": "TKiDEwQZXvKP"
      },
      "source": [
        "**Install openclean.**"
      ]
    },
    {
      "cell_type": "code",
      "metadata": {
        "id": "gXhvECdv5nuj"
      },
      "source": [
        "pip install openclean-core"
      ],
      "execution_count": null,
      "outputs": []
    },
    {
      "cell_type": "markdown",
      "metadata": {
        "id": "w2h1vQNHXf-w"
      },
      "source": [
        "**Loading the data file using Socrata. The file is NYPD Arrest Data (Year to Date) as listed below.**\n",
        "\n"
      ]
    },
    {
      "cell_type": "code",
      "metadata": {
        "id": "FC9AfM9-7N0Y",
        "colab": {
          "base_uri": "https://localhost:8080/"
        },
        "outputId": "99e0a9cd-4362-4fd1-c888-8af98d959787"
      },
      "source": [
        "import gzip\n",
        "import os\n",
        "\n",
        "from openclean.data.source.socrata import Socrata\n",
        "\n",
        "datafile = './uip8-fykc.tsv.gz'\n",
        "\n",
        "# Download file only if it does not exist already.\n",
        "#if not os.path.isfile(datafile):\n",
        "with gzip.open(datafile, 'wb') as f:\n",
        "  ds = Socrata().dataset('uip8-fykc')\n",
        "  print('Downloading ...\\n')\n",
        "  print(ds.name + '\\n')\n",
        "  print(ds.description)\n",
        "  ds.write(f)\n",
        "\n",
        "ds"
      ],
      "execution_count": null,
      "outputs": [
        {
          "output_type": "stream",
          "text": [
            "Downloading ...\n",
            "\n",
            "NYPD Arrest Data (Year to Date)\n",
            "\n",
            "This is a breakdown of every arrest effected in NYC by the NYPD during the current year.\n",
            " This data is manually extracted every quarter and reviewed by the Office of Management Analysis and Planning. \n",
            " Each record represents an arrest effected in NYC by the NYPD and includes information about the type of crime, the location and time of enforcement. \n",
            "In addition, information related to suspect demographics is also included. \n",
            "This data can be used by the public to explore the nature of police enforcement activity. \n",
            "Please refer to the attached data footnotes for additional information about this dataset.\n"
          ],
          "name": "stdout"
        },
        {
          "output_type": "execute_result",
          "data": {
            "text/plain": [
              "<openclean.data.source.socrata.SODADataset at 0x7ff8d45a37d0>"
            ]
          },
          "metadata": {
            "tags": []
          },
          "execution_count": 5
        }
      ]
    },
    {
      "cell_type": "markdown",
      "metadata": {
        "id": "gMOErlDfykkd"
      },
      "source": [
        "**Important import. Run before executing the rest**"
      ]
    },
    {
      "cell_type": "code",
      "metadata": {
        "id": "XInFJlzvyqVa"
      },
      "source": [
        "from openclean.cluster.knn import knn_clusters, knn_collision_clusters\n",
        "from openclean.function.similarity.base import SimilarityConstraint\n",
        "from openclean.function.similarity.text import LevenshteinDistance\n",
        "from openclean.function.token.ngram import NGrams\n",
        "from openclean.function.value.threshold import GreaterThan\n",
        "from openclean.operator.transform.update import update"
      ],
      "execution_count": null,
      "outputs": []
    },
    {
      "cell_type": "markdown",
      "metadata": {
        "id": "cwmbhpORX2u1"
      },
      "source": [
        "**Data study: List number of columns.**"
      ]
    },
    {
      "cell_type": "code",
      "metadata": {
        "colab": {
          "base_uri": "https://localhost:8080/"
        },
        "id": "N7GriJ2Y71-n",
        "outputId": "563a1daf-5101-46d4-a0a7-20e2cc46f8f3"
      },
      "source": [
        "from openclean.pipeline import stream\n",
        "\n",
        "ds = stream(datafile)\n",
        "\n",
        "\n",
        "print('Schema\\n------')\n",
        "for col in ds.columns:\n",
        "    print(\"  '{}'\".format(col))\n",
        "    \n",
        "print('\\n{} rows.'.format(ds.count()))\n",
        "print(\"There are {} rows and {} columns in the dataset.\".format(ds.count(),len(ds.columns)))"
      ],
      "execution_count": null,
      "outputs": [
        {
          "output_type": "stream",
          "text": [
            "Schema\n",
            "------\n",
            "  'ARREST_KEY'\n",
            "  'ARREST_DATE'\n",
            "  'PD_CD'\n",
            "  'PD_DESC'\n",
            "  'KY_CD'\n",
            "  'OFNS_DESC'\n",
            "  'LAW_CODE'\n",
            "  'LAW_CAT_CD'\n",
            "  'ARREST_BORO'\n",
            "  'ARREST_PRECINCT'\n",
            "  'JURISDICTION_CODE'\n",
            "  'AGE_GROUP'\n",
            "  'PERP_SEX'\n",
            "  'PERP_RACE'\n",
            "  'X_COORD_CD'\n",
            "  'Y_COORD_CD'\n",
            "  'Latitude'\n",
            "  'Longitude'\n",
            "  'New Georeferenced Column'\n",
            "\n",
            "140413 rows.\n",
            "There are 140413 rows and 19 columns in the dataset.\n"
          ],
          "name": "stdout"
        }
      ]
    },
    {
      "cell_type": "markdown",
      "metadata": {
        "id": "PqWS3T2TX-Yh"
      },
      "source": [
        "**Data study: Profile a sample of 10000 data to detect issues.**"
      ]
    },
    {
      "cell_type": "code",
      "metadata": {
        "id": "W0PYjb8L8Plx"
      },
      "source": [
        "from openclean.profiling.column import DefaultColumnProfiler\n",
        "\n",
        "profiles = ds.sample(n=10000, random_state=42).profile(default_profiler=DefaultColumnProfiler)"
      ],
      "execution_count": null,
      "outputs": []
    },
    {
      "cell_type": "code",
      "metadata": {
        "colab": {
          "base_uri": "https://localhost:8080/",
          "height": 638
        },
        "id": "6Gu8wVKpAEgp",
        "outputId": "4b307e56-5432-4954-e132-40cc035e5595"
      },
      "source": [
        "profiles.stats()"
      ],
      "execution_count": null,
      "outputs": [
        {
          "output_type": "execute_result",
          "data": {
            "text/html": [
              "<div>\n",
              "<style scoped>\n",
              "    .dataframe tbody tr th:only-of-type {\n",
              "        vertical-align: middle;\n",
              "    }\n",
              "\n",
              "    .dataframe tbody tr th {\n",
              "        vertical-align: top;\n",
              "    }\n",
              "\n",
              "    .dataframe thead th {\n",
              "        text-align: right;\n",
              "    }\n",
              "</style>\n",
              "<table border=\"1\" class=\"dataframe\">\n",
              "  <thead>\n",
              "    <tr style=\"text-align: right;\">\n",
              "      <th></th>\n",
              "      <th>total</th>\n",
              "      <th>empty</th>\n",
              "      <th>distinct</th>\n",
              "      <th>uniqueness</th>\n",
              "      <th>entropy</th>\n",
              "    </tr>\n",
              "  </thead>\n",
              "  <tbody>\n",
              "    <tr>\n",
              "      <th>ARREST_KEY</th>\n",
              "      <td>10000</td>\n",
              "      <td>0</td>\n",
              "      <td>10000</td>\n",
              "      <td>1.000000</td>\n",
              "      <td>13.287712</td>\n",
              "    </tr>\n",
              "    <tr>\n",
              "      <th>ARREST_DATE</th>\n",
              "      <td>10000</td>\n",
              "      <td>0</td>\n",
              "      <td>366</td>\n",
              "      <td>0.036600</td>\n",
              "      <td>8.396583</td>\n",
              "    </tr>\n",
              "    <tr>\n",
              "      <th>PD_CD</th>\n",
              "      <td>10000</td>\n",
              "      <td>1</td>\n",
              "      <td>166</td>\n",
              "      <td>0.016602</td>\n",
              "      <td>5.380796</td>\n",
              "    </tr>\n",
              "    <tr>\n",
              "      <th>PD_DESC</th>\n",
              "      <td>10000</td>\n",
              "      <td>2</td>\n",
              "      <td>158</td>\n",
              "      <td>0.015803</td>\n",
              "      <td>5.349247</td>\n",
              "    </tr>\n",
              "    <tr>\n",
              "      <th>KY_CD</th>\n",
              "      <td>10000</td>\n",
              "      <td>2</td>\n",
              "      <td>59</td>\n",
              "      <td>0.005901</td>\n",
              "      <td>4.501480</td>\n",
              "    </tr>\n",
              "    <tr>\n",
              "      <th>OFNS_DESC</th>\n",
              "      <td>10000</td>\n",
              "      <td>2</td>\n",
              "      <td>51</td>\n",
              "      <td>0.005101</td>\n",
              "      <td>4.290129</td>\n",
              "    </tr>\n",
              "    <tr>\n",
              "      <th>LAW_CODE</th>\n",
              "      <td>10000</td>\n",
              "      <td>0</td>\n",
              "      <td>421</td>\n",
              "      <td>0.042100</td>\n",
              "      <td>6.245291</td>\n",
              "    </tr>\n",
              "    <tr>\n",
              "      <th>LAW_CAT_CD</th>\n",
              "      <td>10000</td>\n",
              "      <td>108</td>\n",
              "      <td>4</td>\n",
              "      <td>0.000404</td>\n",
              "      <td>1.043776</td>\n",
              "    </tr>\n",
              "    <tr>\n",
              "      <th>ARREST_BORO</th>\n",
              "      <td>10000</td>\n",
              "      <td>0</td>\n",
              "      <td>5</td>\n",
              "      <td>0.000500</td>\n",
              "      <td>2.166298</td>\n",
              "    </tr>\n",
              "    <tr>\n",
              "      <th>ARREST_PRECINCT</th>\n",
              "      <td>10000</td>\n",
              "      <td>0</td>\n",
              "      <td>77</td>\n",
              "      <td>0.007700</td>\n",
              "      <td>6.113753</td>\n",
              "    </tr>\n",
              "    <tr>\n",
              "      <th>JURISDICTION_CODE</th>\n",
              "      <td>10000</td>\n",
              "      <td>0</td>\n",
              "      <td>21</td>\n",
              "      <td>0.002100</td>\n",
              "      <td>0.636239</td>\n",
              "    </tr>\n",
              "    <tr>\n",
              "      <th>AGE_GROUP</th>\n",
              "      <td>10000</td>\n",
              "      <td>0</td>\n",
              "      <td>5</td>\n",
              "      <td>0.000500</td>\n",
              "      <td>1.679094</td>\n",
              "    </tr>\n",
              "    <tr>\n",
              "      <th>PERP_SEX</th>\n",
              "      <td>10000</td>\n",
              "      <td>0</td>\n",
              "      <td>2</td>\n",
              "      <td>0.000200</td>\n",
              "      <td>0.643794</td>\n",
              "    </tr>\n",
              "    <tr>\n",
              "      <th>PERP_RACE</th>\n",
              "      <td>10000</td>\n",
              "      <td>0</td>\n",
              "      <td>7</td>\n",
              "      <td>0.000700</td>\n",
              "      <td>1.926892</td>\n",
              "    </tr>\n",
              "    <tr>\n",
              "      <th>X_COORD_CD</th>\n",
              "      <td>10000</td>\n",
              "      <td>0</td>\n",
              "      <td>5338</td>\n",
              "      <td>0.533800</td>\n",
              "      <td>11.349127</td>\n",
              "    </tr>\n",
              "    <tr>\n",
              "      <th>Y_COORD_CD</th>\n",
              "      <td>10000</td>\n",
              "      <td>0</td>\n",
              "      <td>5412</td>\n",
              "      <td>0.541200</td>\n",
              "      <td>11.367285</td>\n",
              "    </tr>\n",
              "    <tr>\n",
              "      <th>Latitude</th>\n",
              "      <td>10000</td>\n",
              "      <td>0</td>\n",
              "      <td>5574</td>\n",
              "      <td>0.557400</td>\n",
              "      <td>11.412375</td>\n",
              "    </tr>\n",
              "    <tr>\n",
              "      <th>Longitude</th>\n",
              "      <td>10000</td>\n",
              "      <td>0</td>\n",
              "      <td>5574</td>\n",
              "      <td>0.557400</td>\n",
              "      <td>11.412375</td>\n",
              "    </tr>\n",
              "    <tr>\n",
              "      <th>New Georeferenced Column</th>\n",
              "      <td>10000</td>\n",
              "      <td>0</td>\n",
              "      <td>5574</td>\n",
              "      <td>0.557400</td>\n",
              "      <td>11.412375</td>\n",
              "    </tr>\n",
              "  </tbody>\n",
              "</table>\n",
              "</div>"
            ],
            "text/plain": [
              "                          total  empty  distinct  uniqueness    entropy\n",
              "ARREST_KEY                10000      0     10000    1.000000  13.287712\n",
              "ARREST_DATE               10000      0       366    0.036600   8.396583\n",
              "PD_CD                     10000      1       166    0.016602   5.380796\n",
              "PD_DESC                   10000      2       158    0.015803   5.349247\n",
              "KY_CD                     10000      2        59    0.005901   4.501480\n",
              "OFNS_DESC                 10000      2        51    0.005101   4.290129\n",
              "LAW_CODE                  10000      0       421    0.042100   6.245291\n",
              "LAW_CAT_CD                10000    108         4    0.000404   1.043776\n",
              "ARREST_BORO               10000      0         5    0.000500   2.166298\n",
              "ARREST_PRECINCT           10000      0        77    0.007700   6.113753\n",
              "JURISDICTION_CODE         10000      0        21    0.002100   0.636239\n",
              "AGE_GROUP                 10000      0         5    0.000500   1.679094\n",
              "PERP_SEX                  10000      0         2    0.000200   0.643794\n",
              "PERP_RACE                 10000      0         7    0.000700   1.926892\n",
              "X_COORD_CD                10000      0      5338    0.533800  11.349127\n",
              "Y_COORD_CD                10000      0      5412    0.541200  11.367285\n",
              "Latitude                  10000      0      5574    0.557400  11.412375\n",
              "Longitude                 10000      0      5574    0.557400  11.412375\n",
              "New Georeferenced Column  10000      0      5574    0.557400  11.412375"
            ]
          },
          "metadata": {
            "tags": []
          },
          "execution_count": 160
        }
      ]
    },
    {
      "cell_type": "markdown",
      "metadata": {
        "id": "ope39s3_larE"
      },
      "source": [
        "**Data study: Perform a scan to check date format. No issues found.**"
      ]
    },
    {
      "cell_type": "code",
      "metadata": {
        "id": "vZsFmLZthtMl"
      },
      "source": [
        "date = ds.distinct('ARREST_DATE')\n",
        "\n",
        "import datetime \n",
        "def validate(date_text):\n",
        "    try:\n",
        "        datetime.datetime.strptime(date_text, '%m/%d/%Y')\n",
        "    except ValueError:\n",
        "        print(date_text)\n",
        "        #raise ValueError(\"Incorrect data format, should be YYYY-MM-DD\")\n",
        "\n",
        "for i in date:\n",
        "  validate(i)"
      ],
      "execution_count": null,
      "outputs": []
    },
    {
      "cell_type": "markdown",
      "metadata": {
        "id": "nHQqL_UayHzV"
      },
      "source": [
        "**Convert to data frame for fixing issues.**"
      ]
    },
    {
      "cell_type": "code",
      "metadata": {
        "id": "FuerqcFXyQ_o"
      },
      "source": [
        "fix = ds.to_df()"
      ],
      "execution_count": null,
      "outputs": []
    },
    {
      "cell_type": "markdown",
      "metadata": {
        "id": "H_fC4fPgJ8DO"
      },
      "source": [
        "**Data Issues: In OFNS_DESC column, there are many repeated and miss spelling that needs to merge and fix. The impact with this change is later we would like to catergories offenses and have statistics on it.**"
      ]
    },
    {
      "cell_type": "code",
      "metadata": {
        "colab": {
          "base_uri": "https://localhost:8080/"
        },
        "id": "uYf1O52RYd9s",
        "outputId": "a08da57f-30ee-4b1a-9644-643ee789c456"
      },
      "source": [
        "offense = ds.select('OFNS_DESC').distinct()\n",
        "\n",
        "clusters = knn_clusters(\n",
        "  values=offense,\n",
        "  sim=SimilarityConstraint(func=LevenshteinDistance(), pred=GreaterThan(0.7)),\n",
        "  tokenizer=NGrams(n=4),\n",
        "  minsize=2\n",
        ")\n",
        "\n",
        "for i in clusters:\n",
        "  print(i)"
      ],
      "execution_count": null,
      "outputs": [
        {
          "output_type": "stream",
          "text": [
            "Cluster({'INTOXICATED & IMPAIRED DRIVING': 2299, 'INTOXICATED/IMPAIRED DRIVING': 346})\n",
            "Cluster({'KIDNAPPING & RELATED OFFENSES': 44, 'KIDNAPPING AND RELATED OFFENSES': 1})\n",
            "Cluster({'OFFENSES AGAINST PUBLIC ADMINI': 4925, 'OFFENSES AGAINST PUBLIC SAFETY': 84})\n",
            "Cluster({'OTHER STATE LAWS (NON PENAL LA': 536, 'OTHER STATE LAWS (NON PENAL LAW)': 5})\n",
            "Cluster({'ADMINISTRATIVE CODE': 126, 'ADMINISTRATIVE CODES': 1})\n"
          ],
          "name": "stdout"
        }
      ]
    },
    {
      "cell_type": "markdown",
      "metadata": {
        "id": "tT3jgeCQNPIQ"
      },
      "source": [
        "**Data issues: Show KIDNAPPING spellings.**"
      ]
    },
    {
      "cell_type": "code",
      "metadata": {
        "colab": {
          "base_uri": "https://localhost:8080/"
        },
        "id": "MiyrpAI5CBe1",
        "outputId": "ad5fea18-4c87-48db-f9ed-e2ce50ba97df"
      },
      "source": [
        "offense = ds.select(['OFNS_DESC']).distinct()\n",
        "\n",
        "kid_val = []\n",
        "\n",
        "for i in offense:\n",
        "  if 'KIDNAPPING' in i:\n",
        "    kid_val.append(i)\n",
        "    print(i)"
      ],
      "execution_count": null,
      "outputs": [
        {
          "output_type": "stream",
          "text": [
            "KIDNAPPING & RELATED OFFENSES\n",
            "KIDNAPPING AND RELATED OFFENSES\n",
            "KIDNAPPING\n"
          ],
          "name": "stdout"
        }
      ]
    },
    {
      "cell_type": "markdown",
      "metadata": {
        "id": "enfAFLFv5sTL"
      },
      "source": [
        "**Data fix: Change KIDNAPPING and KIDNAPPING & RELATED OFFENSES to KIDNAPPING AND RELATED OFFENSES**"
      ]
    },
    {
      "cell_type": "code",
      "metadata": {
        "id": "EaMhHZ2K55nh"
      },
      "source": [
        "kid_dict = {\n",
        "    'KIDNAPPING & RELATED OFFENSES': 'KIDNAPPING AND RELATED OFFENSES',\n",
        "    'KIDNAPPING': 'KIDNAPPING AND RELATED OFFENSES'\n",
        "}\n",
        "\n",
        "fix = update(fix, columns='OFNS_DESC', func=kid_dict)"
      ],
      "execution_count": null,
      "outputs": []
    },
    {
      "cell_type": "markdown",
      "metadata": {
        "id": "kmYQ3cxnP4gN"
      },
      "source": [
        "**Data fixed test: Test KIDNAPPING spellings**"
      ]
    },
    {
      "cell_type": "code",
      "metadata": {
        "colab": {
          "base_uri": "https://localhost:8080/"
        },
        "id": "utCVxlHXQC-i",
        "outputId": "c19f1f83-60a7-4598-fe43-9f8b678071d0"
      },
      "source": [
        "check_fix = fix.loc[fix['OFNS_DESC'].isin(kid_val)]\n",
        "assert all(check_fix['OFNS_DESC'] == 'KIDNAPPING AND RELATED OFFENSES'), \"KIDNAPPING spelling is not fixed: \" + check_fix['OFNS_DESC'].unique()\n",
        "print(\"Successfully fixed: \" + check_fix['OFNS_DESC'].unique())"
      ],
      "execution_count": null,
      "outputs": [
        {
          "output_type": "stream",
          "text": [
            "['Successfully fixed: KIDNAPPING AND RELATED OFFENSES']\n"
          ],
          "name": "stdout"
        }
      ]
    },
    {
      "cell_type": "markdown",
      "metadata": {
        "id": "Hn1I-C5RTDfU"
      },
      "source": [
        "**Data issues: Show ADMINISTRATIVE spellings.**"
      ]
    },
    {
      "cell_type": "code",
      "metadata": {
        "colab": {
          "base_uri": "https://localhost:8080/"
        },
        "id": "H4AaZkEiKbd2",
        "outputId": "b4671c12-6e82-486a-bb15-3d5356192943"
      },
      "source": [
        "offense = ds.select('OFNS_DESC').distinct()\n",
        "administrative_val = []\n",
        "for i in offense:\n",
        "  if 'ADMINISTRATIVE' in i:\n",
        "    administrative_val.append(i)\n",
        "    print(i)"
      ],
      "execution_count": null,
      "outputs": [
        {
          "output_type": "stream",
          "text": [
            "ADMINISTRATIVE CODES\n",
            "ADMINISTRATIVE CODE\n"
          ],
          "name": "stdout"
        }
      ]
    },
    {
      "cell_type": "markdown",
      "metadata": {
        "id": "mTjYEMSy2k2O"
      },
      "source": [
        "**Data fix: Change ADMINISTRATIVE CODES to ADMINISTRATIVE CODE**"
      ]
    },
    {
      "cell_type": "code",
      "metadata": {
        "id": "nOZydo4Z2_XY"
      },
      "source": [
        "ad_dict = {\n",
        "    'ADMINISTRATIVE CODES': 'ADMINISTRATIVE CODE',\n",
        "}\n",
        "\n",
        "fix = update(fix, columns='OFNS_DESC', func=ad_dict)"
      ],
      "execution_count": null,
      "outputs": []
    },
    {
      "cell_type": "markdown",
      "metadata": {
        "id": "RkVKpV4-TS1r"
      },
      "source": [
        "**Data fixed test: Test ADMINSTRATIVE spellings**"
      ]
    },
    {
      "cell_type": "code",
      "metadata": {
        "colab": {
          "base_uri": "https://localhost:8080/"
        },
        "id": "6u3CVadMTfsO",
        "outputId": "aab7583e-ddac-4635-cdd7-033007862a5f"
      },
      "source": [
        "check_fix = fix.loc[fix['OFNS_DESC'].isin(administrative_val)]\n",
        "assert all(check_fix['OFNS_DESC'] == 'ADMINISTRATIVE CODE'), \"ADMINISTRATIVE spelling is not fixed: \" + check_fix['OFNS_DESC'].unique()\n",
        "print(\"Successfully fixed: \" + check_fix['OFNS_DESC'].unique())"
      ],
      "execution_count": null,
      "outputs": [
        {
          "output_type": "stream",
          "text": [
            "['Successfully fixed: ADMINISTRATIVE CODE']\n"
          ],
          "name": "stdout"
        }
      ]
    },
    {
      "cell_type": "markdown",
      "metadata": {
        "id": "JdcmMQHjTxX-"
      },
      "source": [
        "**Data issues: Show INTOXICATED spellings.**"
      ]
    },
    {
      "cell_type": "code",
      "metadata": {
        "colab": {
          "base_uri": "https://localhost:8080/"
        },
        "id": "QUZGu3ySLQAW",
        "outputId": "1a82f1c1-a64b-4bd1-d395-78f077d6044a"
      },
      "source": [
        "offense = ds.select('OFNS_DESC').distinct()\n",
        "tox_val = []\n",
        "for i in offense:\n",
        "  if 'INTOXICATED' in i:\n",
        "    tox_val.append(i)\n",
        "    print(i)"
      ],
      "execution_count": null,
      "outputs": [
        {
          "output_type": "stream",
          "text": [
            "INTOXICATED & IMPAIRED DRIVING\n",
            "INTOXICATED/IMPAIRED DRIVING\n"
          ],
          "name": "stdout"
        }
      ]
    },
    {
      "cell_type": "markdown",
      "metadata": {
        "id": "W4oKuSUB62qm"
      },
      "source": [
        "**Data fix: Change INTOXICATED & IMPAIRED DRIVING, INTOXICATED/IMPAIRED DRIVING to INTOXICATED AND IMPAIRED DRIVING**"
      ]
    },
    {
      "cell_type": "code",
      "metadata": {
        "id": "-c-uL3cx7AyS"
      },
      "source": [
        "tox_dict = {\n",
        "    'INTOXICATED & IMPAIRED DRIVING': 'INTOXICATED AND IMPAIRED DRIVING',\n",
        "    'INTOXICATED/IMPAIRED DRIVING': 'INTOXICATED AND IMPAIRED DRIVING'\n",
        "}\n",
        "\n",
        "fix = update(fix, columns='OFNS_DESC', func=tox_dict)"
      ],
      "execution_count": null,
      "outputs": []
    },
    {
      "cell_type": "markdown",
      "metadata": {
        "id": "n_0R8j8qT4vn"
      },
      "source": [
        "**Data fixed test: Test INTOXICATED spellings**"
      ]
    },
    {
      "cell_type": "code",
      "metadata": {
        "colab": {
          "base_uri": "https://localhost:8080/"
        },
        "id": "tuLRV89IT5JG",
        "outputId": "d3059e26-ac72-4935-b53d-d43e6553b59e"
      },
      "source": [
        "check_fix = fix.loc[fix['OFNS_DESC'].isin(['INTOXICATED AND IMPAIRED DRIVING'] + tox_val)]\n",
        "assert all(check_fix['OFNS_DESC'] == 'INTOXICATED AND IMPAIRED DRIVING'), \"INTOXICATED spelling is not fixed: \" + check_fix['OFNS_DESC'].unique()\n",
        "print(\"Successfully fixed: \" + check_fix['OFNS_DESC'].unique())"
      ],
      "execution_count": null,
      "outputs": [
        {
          "output_type": "stream",
          "text": [
            "['Successfully fixed: INTOXICATED AND IMPAIRED DRIVING']\n"
          ],
          "name": "stdout"
        }
      ]
    },
    {
      "cell_type": "markdown",
      "metadata": {
        "id": "JroQPYEAdJc9"
      },
      "source": [
        "**Data issues: The borough of NYC that the arrest happen. The data K,M,B,Q,S is unclear to us.**"
      ]
    },
    {
      "cell_type": "code",
      "metadata": {
        "colab": {
          "base_uri": "https://localhost:8080/"
        },
        "id": "egkuNM76U88I",
        "outputId": "9a937c14-2e25-42ec-b032-3eeb4658136a"
      },
      "source": [
        "print(fix['ARREST_BORO'].unique())"
      ],
      "execution_count": null,
      "outputs": [
        {
          "output_type": "stream",
          "text": [
            "['B' 'M' 'Q' 'S' 'K']\n"
          ],
          "name": "stdout"
        }
      ]
    },
    {
      "cell_type": "markdown",
      "metadata": {
        "id": "yJ19nYp71tmK"
      },
      "source": [
        "**Data fix: Change ambiguous abbreviation of column ARREST_BORO to full form.**"
      ]
    },
    {
      "cell_type": "code",
      "metadata": {
        "id": "LpzELgst14dz"
      },
      "source": [
        "boro_dict = {\n",
        "    'B': 'Bronx',\n",
        "    'S': 'Staten Island',\n",
        "    'K': 'Brooklyn',\n",
        "    'M': 'Manhattan',\n",
        "    'Q': 'Queens',\n",
        "}\n",
        "\n",
        "fix = update(fix, columns='ARREST_BORO', func=boro_dict)"
      ],
      "execution_count": null,
      "outputs": []
    },
    {
      "cell_type": "markdown",
      "metadata": {
        "id": "xDbQXtiVVQJU"
      },
      "source": [
        "**Data fixed test: Test ARREST_BORO fixed data**"
      ]
    },
    {
      "cell_type": "code",
      "metadata": {
        "colab": {
          "base_uri": "https://localhost:8080/"
        },
        "id": "xuejS50XVYQt",
        "outputId": "a57a422c-e9f6-42e3-8bad-6a02f7205c6b"
      },
      "source": [
        "assert (sorted(fix['ARREST_BORO'].unique()) == sorted(boro_dict.values())), \"ARREST_BORO is not fixed: \" + fix['ARREST_BORO'].unique()\n",
        "print(\"Successfully fixed: \" + fix['ARREST_BORO'].unique())"
      ],
      "execution_count": null,
      "outputs": [
        {
          "output_type": "stream",
          "text": [
            "['Successfully fixed: Bronx' 'Successfully fixed: Manhattan'\n",
            " 'Successfully fixed: Queens' 'Successfully fixed: Staten Island'\n",
            " 'Successfully fixed: Brooklyn']\n"
          ],
          "name": "stdout"
        }
      ]
    },
    {
      "cell_type": "markdown",
      "metadata": {
        "id": "u8kR6QzHdmlY"
      },
      "source": [
        "**Data issues: The columns PERP_SEX and LAW_CAT_CD are also having values that is easier to read if written in full text instead of abbreviation.**"
      ]
    },
    {
      "cell_type": "code",
      "metadata": {
        "colab": {
          "base_uri": "https://localhost:8080/"
        },
        "id": "Osf4ut-deAFT",
        "outputId": "3fd33c36-11e1-4ebd-be2c-b482ea9964d2"
      },
      "source": [
        "sex = ds.distinct('PERP_SEX')\n",
        "\n",
        "print(list(sex))"
      ],
      "execution_count": null,
      "outputs": [
        {
          "output_type": "stream",
          "text": [
            "['M', 'F']\n"
          ],
          "name": "stdout"
        }
      ]
    },
    {
      "cell_type": "code",
      "metadata": {
        "colab": {
          "base_uri": "https://localhost:8080/"
        },
        "id": "dJHhnNrTebHE",
        "outputId": "7654a73a-11a1-4fda-a139-0dfabdbf0a84"
      },
      "source": [
        "law_cat_cd = ds.distinct('LAW_CAT_CD')\n",
        "\n",
        "print(list(law_cat_cd))"
      ],
      "execution_count": null,
      "outputs": [
        {
          "output_type": "stream",
          "text": [
            "['F', 'M', '', 'I', 'V']\n"
          ],
          "name": "stdout"
        }
      ]
    },
    {
      "cell_type": "markdown",
      "metadata": {
        "id": "gBSstV5j09kA"
      },
      "source": [
        "**Data fix: Change abbreviation of LAW_CAT_CD to long form.**"
      ]
    },
    {
      "cell_type": "code",
      "metadata": {
        "id": "x05yPU2p1IK3"
      },
      "source": [
        "law_cat_cd_dict = {\n",
        "    'F': 'Felony',\n",
        "    'M': 'Misdemeanor',\n",
        "    'V': 'Violation',\n",
        "    'I': 'Traffic Infraction',\n",
        "    '': 'Unknown'\n",
        "}\n",
        "\n",
        "fix = update(fix, columns='LAW_CAT_CD', func=law_cat_cd_dict)"
      ],
      "execution_count": null,
      "outputs": []
    },
    {
      "cell_type": "markdown",
      "metadata": {
        "id": "n1yJfeJx5bhm"
      },
      "source": [
        "**Data fixed test: Test LAW_CAT_CD fixed data**"
      ]
    },
    {
      "cell_type": "code",
      "metadata": {
        "colab": {
          "base_uri": "https://localhost:8080/"
        },
        "id": "ADJKt5435jt9",
        "outputId": "03b4a024-39ff-4307-c7b9-ff2b0f9b62f2"
      },
      "source": [
        "assert (sorted(fix['LAW_CAT_CD'].unique()) == sorted(law_cat_cd_dict.values())), \"LAW_CAT_CD is not fixed: \" + fix['LAW_CAT_CD'].unique()\n",
        "print(\"Successfully fixed: \" + fix['LAW_CAT_CD'].unique())"
      ],
      "execution_count": null,
      "outputs": [
        {
          "output_type": "stream",
          "text": [
            "['Successfully fixed: Felony' 'Successfully fixed: Misdemeanor'\n",
            " 'Successfully fixed: Unknown' 'Successfully fixed: Traffic Infraction'\n",
            " 'Successfully fixed: Violation']\n"
          ],
          "name": "stdout"
        }
      ]
    },
    {
      "cell_type": "markdown",
      "metadata": {
        "id": "d5SRi-RqpWB6"
      },
      "source": [
        "**Data fix: Change abbreviation of PERP_SEX to long form.**"
      ]
    },
    {
      "cell_type": "code",
      "metadata": {
        "id": "tyTImZNwpacX"
      },
      "source": [
        "perp_sex_dict = {\n",
        "    'F': 'Female',\n",
        "    'M': 'Male'\n",
        "}\n",
        "\n",
        "fix = update(fix, columns='PERP_SEX', func=perp_sex_dict)"
      ],
      "execution_count": null,
      "outputs": []
    },
    {
      "cell_type": "markdown",
      "metadata": {
        "id": "UM0wlH1457R-"
      },
      "source": [
        "**Data fixed test: Test PERP_SEX fixed data**"
      ]
    },
    {
      "cell_type": "code",
      "metadata": {
        "colab": {
          "base_uri": "https://localhost:8080/"
        },
        "id": "HIaywroR6CQE",
        "outputId": "92c195ed-9dd6-454c-f0f2-73e3bd3d3508"
      },
      "source": [
        "assert (sorted(fix['PERP_SEX'].unique()) == sorted(perp_sex_dict.values())), \"PERP_SEX is not fixed: \" + fix['PERP_SEX'].unique()\n",
        "print(\"Successfully fixed: \" + fix['PERP_SEX'].unique())"
      ],
      "execution_count": null,
      "outputs": [
        {
          "output_type": "stream",
          "text": [
            "['Successfully fixed: Male' 'Successfully fixed: Female']\n"
          ],
          "name": "stdout"
        }
      ]
    },
    {
      "cell_type": "markdown",
      "metadata": {
        "id": "Ybk5SbSKe-mK"
      },
      "source": [
        "**Data issues: There are unnecessary columns in our dataset that we don't care about such as X_COORD_CD and Y_COORD_CD which list midblock X and Y-coordinate for New York State Plane Coordinate System, Long Island Zone, NAD 83, units feet (FIPS 3104)**"
      ]
    },
    {
      "cell_type": "code",
      "metadata": {
        "colab": {
          "base_uri": "https://localhost:8080/",
          "height": 204
        },
        "id": "8-svAokFfH7c",
        "outputId": "2a8f504e-602e-4eb2-ef64-b682eb7d7cfe"
      },
      "source": [
        "display = ds.select(['X_COORD_CD','Y_COORD_CD']).to_df()\n",
        "\n",
        "display.head()"
      ],
      "execution_count": null,
      "outputs": [
        {
          "output_type": "execute_result",
          "data": {
            "text/html": [
              "<div>\n",
              "<style scoped>\n",
              "    .dataframe tbody tr th:only-of-type {\n",
              "        vertical-align: middle;\n",
              "    }\n",
              "\n",
              "    .dataframe tbody tr th {\n",
              "        vertical-align: top;\n",
              "    }\n",
              "\n",
              "    .dataframe thead th {\n",
              "        text-align: right;\n",
              "    }\n",
              "</style>\n",
              "<table border=\"1\" class=\"dataframe\">\n",
              "  <thead>\n",
              "    <tr style=\"text-align: right;\">\n",
              "      <th></th>\n",
              "      <th>X_COORD_CD</th>\n",
              "      <th>Y_COORD_CD</th>\n",
              "    </tr>\n",
              "  </thead>\n",
              "  <tbody>\n",
              "    <tr>\n",
              "      <th>0</th>\n",
              "      <td>1007453</td>\n",
              "      <td>233952</td>\n",
              "    </tr>\n",
              "    <tr>\n",
              "      <th>1</th>\n",
              "      <td>1001456</td>\n",
              "      <td>247485</td>\n",
              "    </tr>\n",
              "    <tr>\n",
              "      <th>2</th>\n",
              "      <td>1028605</td>\n",
              "      <td>187930</td>\n",
              "    </tr>\n",
              "    <tr>\n",
              "      <th>3</th>\n",
              "      <td>1039602</td>\n",
              "      <td>190480</td>\n",
              "    </tr>\n",
              "    <tr>\n",
              "      <th>4</th>\n",
              "      <td>949767</td>\n",
              "      <td>170539</td>\n",
              "    </tr>\n",
              "  </tbody>\n",
              "</table>\n",
              "</div>"
            ],
            "text/plain": [
              "  X_COORD_CD Y_COORD_CD\n",
              "0    1007453     233952\n",
              "1    1001456     247485\n",
              "2    1028605     187930\n",
              "3    1039602     190480\n",
              "4     949767     170539"
            ]
          },
          "metadata": {
            "tags": []
          },
          "execution_count": 190
        }
      ]
    },
    {
      "cell_type": "markdown",
      "metadata": {
        "id": "kZbTMcszHd6_"
      },
      "source": [
        "**Data fix: Our solution is to drop the columns.**"
      ]
    },
    {
      "cell_type": "code",
      "metadata": {
        "id": "qxOhKyILHloa"
      },
      "source": [
        "fix  = fix.drop(columns=['X_COORD_CD', 'Y_COORD_CD'])"
      ],
      "execution_count": null,
      "outputs": []
    },
    {
      "cell_type": "markdown",
      "metadata": {
        "id": "tlDEYEBC6Vxu"
      },
      "source": [
        "**Data fixed test: Test X_COORD_CD and YCOORD_CD dropped column**"
      ]
    },
    {
      "cell_type": "code",
      "metadata": {
        "colab": {
          "base_uri": "https://localhost:8080/"
        },
        "id": "a1sQiLuh6enF",
        "outputId": "0fee6532-cdc3-4fec-d947-263fec603363"
      },
      "source": [
        "assert (any(i not in fix.columns.values.tolist() for i in ['X_COORD_CD', 'Y_COORD_CD'])), \"X_COORD_CD and Y_COORD_CD are not dropped\"\n",
        "print(\"Successfully dropped: \" + str(fix.columns.values.tolist()))"
      ],
      "execution_count": null,
      "outputs": [
        {
          "output_type": "stream",
          "text": [
            "Successfully dropped: ['ARREST_KEY', 'ARREST_DATE', 'PD_CD', 'PD_DESC', 'KY_CD', 'OFNS_DESC', 'LAW_CODE', 'LAW_CAT_CD', 'ARREST_BORO', 'ARREST_PRECINCT', 'JURISDICTION_CODE', 'AGE_GROUP', 'PERP_SEX', 'PERP_RACE', 'Latitude', 'Longitude', 'New Georeferenced Column']\n"
          ],
          "name": "stdout"
        }
      ]
    },
    {
      "cell_type": "markdown",
      "metadata": {
        "id": "nlwnUhlWhWUH"
      },
      "source": [
        "**Data issues: The data ASIAN / PACIFIC ISLANDER is better to be fix by removing space between / for easier comparison for analysis later on.**"
      ]
    },
    {
      "cell_type": "code",
      "metadata": {
        "colab": {
          "base_uri": "https://localhost:8080/"
        },
        "id": "Fa1u3CoEhDGy",
        "outputId": "aeeaf453-4069-4a4a-d9a9-0e3bc19881e2"
      },
      "source": [
        "race = ds.distinct('PERP_RACE')\n",
        "\n",
        "for i in race:\n",
        "  print(i)"
      ],
      "execution_count": null,
      "outputs": [
        {
          "output_type": "stream",
          "text": [
            "BLACK\n",
            "BLACK HISPANIC\n",
            "WHITE\n",
            "WHITE HISPANIC\n",
            "ASIAN / PACIFIC ISLANDER\n",
            "UNKNOWN\n",
            "AMERICAN INDIAN/ALASKAN NATIVE\n"
          ],
          "name": "stdout"
        }
      ]
    },
    {
      "cell_type": "markdown",
      "metadata": {
        "id": "v3w2SkGW73lM"
      },
      "source": [
        "**Data fix: Remove space between ASIAN / PACIFIC ISLANDER.**"
      ]
    },
    {
      "cell_type": "code",
      "metadata": {
        "id": "nEa9m6wS7-q2"
      },
      "source": [
        "race_dict = {\n",
        "    'ASIAN / PACIFIC ISLANDER': 'ASIAN/PACIFIC ISLANDER'\n",
        "}\n",
        "\n",
        "fix = update(fix, columns='PERP_RACE', func=race_dict)"
      ],
      "execution_count": null,
      "outputs": []
    },
    {
      "cell_type": "markdown",
      "metadata": {
        "id": "KyZExc3f7yY2"
      },
      "source": [
        "**Data fixed test: Test PERP_RACE fixed data**"
      ]
    },
    {
      "cell_type": "code",
      "metadata": {
        "colab": {
          "base_uri": "https://localhost:8080/"
        },
        "id": "gNekqXOp75i5",
        "outputId": "e54b6135-6e17-4e73-83fc-7f70f56ab38a"
      },
      "source": [
        "assert ('ASIAN / PACIFIC ISLANDER' not in fix['PERP_RACE'].unique()), \"ASIAN / PACIFIC ISLANDER is not fixed\"\n",
        "print(\"Successfully fixed: \" + fix['PERP_RACE'].unique())"
      ],
      "execution_count": null,
      "outputs": [
        {
          "output_type": "stream",
          "text": [
            "['Successfully fixed: BLACK' 'Successfully fixed: BLACK HISPANIC'\n",
            " 'Successfully fixed: WHITE' 'Successfully fixed: WHITE HISPANIC'\n",
            " 'Successfully fixed: ASIAN/PACIFIC ISLANDER'\n",
            " 'Successfully fixed: UNKNOWN'\n",
            " 'Successfully fixed: AMERICAN INDIAN/ALASKAN NATIVE']\n"
          ],
          "name": "stdout"
        }
      ]
    },
    {
      "cell_type": "markdown",
      "metadata": {
        "id": "4S5bdlfXma0f"
      },
      "source": [
        "**Data issues: Found new issues with PD_DESC. Some spellings are incorrect. This also impacts as we want to catergorize the PD description to compare with the offense description.**"
      ]
    },
    {
      "cell_type": "code",
      "metadata": {
        "colab": {
          "base_uri": "https://localhost:8080/"
        },
        "id": "T_X6UohGl45X",
        "outputId": "01457339-b236-4c76-9a00-cb06c0e2181f"
      },
      "source": [
        "pd = ds.select('PD_DESC').distinct()\n",
        "\n",
        "clusters = knn_clusters(\n",
        "  values=pd,\n",
        "  sim=SimilarityConstraint(func=LevenshteinDistance(), pred=GreaterThan(0.9)),\n",
        "  tokenizer=NGrams(n=4),\n",
        "  minsize=2\n",
        ")\n",
        "\n",
        "for i in clusters:\n",
        "  print(i)"
      ],
      "execution_count": null,
      "outputs": [
        {
          "output_type": "stream",
          "text": [
            "Cluster({'PROSTITUTION 2, UNDER 16': 4, 'PROSTITUTION 1, UNDER 11': 1})\n",
            "Cluster({'NY STATE LAWS,UNCLASSIFIED MIS': 428, 'NY STATE LAWS,UNCLASSIFIED VIO': 262})\n",
            "Cluster({'TRESPASS 3, CRIMINAL': 1049, 'TRESPASS 2, CRIMINAL': 503})\n",
            "Cluster({'UNAUTHORIZED USE VEHICLE 3': 522, 'UNAUTHORIZED USE VEHICLE 2': 241})\n",
            "Cluster({'RECKLESS ENDANGERMENT 1': 647, 'RECKLESS ENDANGERMENT 2': 608})\n",
            "Cluster({'KIDNAPPING 2': 9, 'KIDNAPPING 1': 1})\n",
            "Cluster({'CONTROLLED SUBSTANCE, POSSESSI': 4773, 'CONTROLLED SUBSTANCE,POSSESS.': 474})\n",
            "Cluster({'CUSTODIAL INTERFERENCE 2': 10, 'CUSTODIAL INTERFERENCE 1': 5})\n",
            "Cluster({'CONTROLLED SUBSTANCE,INTENT TO': 2400, 'CONTROLLED SUBSTANCE, INTENT T': 362})\n",
            "Cluster({'CONTROLLED SUBSTANCE,SALE 3': 976, 'CONTROLLED SUBSTANCE, SALE 5': 67, 'CONTROLLED SUBSTANCE,SALE 2': 66, 'CONTROLLED SUBSTANCE,SALE 1': 56, 'CONTROLLED SUBSTANCE, SALE 4': 23})\n",
            "Cluster({'SALE SCHOOL GROUNDS': 40, 'SALE SCHOOL GROUNDS 4': 1})\n",
            "Cluster({'AGGRAVATED HARASSMENT 2': 2365, 'AGGRAVATED HARASSMENT 1': 32})\n",
            "Cluster({'IMPRISONMENT 2,UNLAWFUL': 83, 'IMPRISONMENT 1,UNLAWFUL': 29})\n",
            "Cluster({'IMPAIRED DRIVING,DRUG': 61, 'IMPAIRED DRIVING, DRUGS': 14})\n"
          ],
          "name": "stdout"
        }
      ]
    },
    {
      "cell_type": "markdown",
      "metadata": {
        "id": "j_ij9SFKnTVR"
      },
      "source": [
        "**Only miss spelling one is considered to be fixed such as: CONTROLLED SUBSTANCE, POSSESSI, CONTROLLED SUBSTANCE, INTENT T, CONTROLLED SUBSTANCE,POSSESS., and spaces between CONTROLLED SUBSTANCE, SALE**"
      ]
    },
    {
      "cell_type": "code",
      "metadata": {
        "colab": {
          "base_uri": "https://localhost:8080/"
        },
        "id": "Lg6dpKvcnHTo",
        "outputId": "bd99219e-c973-4e83-ce7a-95b534719952"
      },
      "source": [
        "pd_desc = ds.select('PD_DESC').distinct()\n",
        "\n",
        "for i in pd_desc:\n",
        "  if 'CONTROLLED SUBSTANCE,' in i:\n",
        "    print(i)"
      ],
      "execution_count": null,
      "outputs": [
        {
          "output_type": "stream",
          "text": [
            "CONTROLLED SUBSTANCE, POSSESSI\n",
            "CONTROLLED SUBSTANCE,INTENT TO\n",
            "CONTROLLED SUBSTANCE, INTENT T\n",
            "CONTROLLED SUBSTANCE,SALE 3\n",
            "CONTROLLED SUBSTANCE, SALE 5\n",
            "CONTROLLED SUBSTANCE,POSSESS.\n",
            "CONTROLLED SUBSTANCE,SALE 1\n",
            "CONTROLLED SUBSTANCE, SALE 4\n",
            "CONTROLLED SUBSTANCE,SALE 2\n"
          ],
          "name": "stdout"
        }
      ]
    },
    {
      "cell_type": "markdown",
      "metadata": {
        "id": "jCTbx94t-ICt"
      },
      "source": [
        "**Data fix: Change spacing in SALE and spelling to POSSESSION and INTENT**\n",
        "\n"
      ]
    },
    {
      "cell_type": "code",
      "metadata": {
        "id": "38N9u19W99_k"
      },
      "source": [
        "control_dict = {\n",
        "    'CONTROLLED SUBSTANCE, POSSESSI': 'CONTROLLED SUBSTANCE, POSSESSION',\n",
        "    'CONTROLLED SUBSTANCE,POSSESS.': 'CONTROLLED SUBSTANCE, POSSESSION',\n",
        "    'CONTROLLED SUBSTANCE,INTENT TO': 'CONTROLLED SUBSTANCE, INTENT',\n",
        "    'CONTROLLED SUBSTANCE, INTENT T': 'CONTROLLED SUBSTANCE, INTENT',\n",
        "    'CONTROLLED SUBSTANCE,SALE 3': 'CONTROLLED SUBSTANCE, SALE 3',\n",
        "    'CONTROLLED SUBSTANCE,SALE 1': 'CONTROLLED SUBSTANCE, SALE 1',\n",
        "    'CONTROLLED SUBSTANCE,SALE 2': 'CONTROLLED SUBSTANCE, SALE 2'\n",
        "}\n",
        "\n",
        "fix = update(fix, columns='PD_DESC', func=control_dict)"
      ],
      "execution_count": null,
      "outputs": []
    },
    {
      "cell_type": "markdown",
      "metadata": {
        "id": "wwZusmnu96bQ"
      },
      "source": [
        "**Data fixed test: Test PD_DESC fixed data**"
      ]
    },
    {
      "cell_type": "code",
      "metadata": {
        "colab": {
          "base_uri": "https://localhost:8080/"
        },
        "id": "hTTUlv7H-FjG",
        "outputId": "b544f1da-03b8-4c40-f897-d6d1d0f78919"
      },
      "source": [
        "check_fix = fix[fix['PD_DESC'].str.contains('CONTROLLED SUBSTANCE')]\n",
        "assert (any(i not in check_fix['PD_DESC'].unique() for i in control_dict.keys())), \"PD_DESC is not fixed: \" + check_fix['PD_DESC'].unique()\n",
        "print(\"Successfully fixed: \" + check_fix['PD_DESC'].unique())"
      ],
      "execution_count": null,
      "outputs": [
        {
          "output_type": "stream",
          "text": [
            "['Successfully fixed: CONTROLLED SUBSTANCE, POSSESSION'\n",
            " 'Successfully fixed: CONTROLLED SUBSTANCE, INTENT'\n",
            " 'Successfully fixed: CONTROLLED SUBSTANCE, SALE 3'\n",
            " 'Successfully fixed: CONTROLLED SUBSTANCE, SALE 5'\n",
            " 'Successfully fixed: CONTROLLED SUBSTANCE, SALE 1'\n",
            " 'Successfully fixed: CONTROLLED SUBSTANCE, SALE 4'\n",
            " 'Successfully fixed: CONTROLLED SUBSTANCE, SALE 2']\n"
          ],
          "name": "stdout"
        }
      ]
    },
    {
      "cell_type": "markdown",
      "metadata": {
        "id": "uLCdVv9aoPuT"
      },
      "source": [
        "**Only fix DRUG spelling**"
      ]
    },
    {
      "cell_type": "code",
      "metadata": {
        "colab": {
          "base_uri": "https://localhost:8080/"
        },
        "id": "4d6h7i-Pn6pR",
        "outputId": "fc503b98-c450-48a7-8e30-67713db15d36"
      },
      "source": [
        "pd_desc = ds.select('PD_DESC').distinct()\n",
        "\n",
        "for i in pd_desc:\n",
        "  if 'IMPAIRED DRIVING' in i:\n",
        "    print(i)"
      ],
      "execution_count": null,
      "outputs": [
        {
          "output_type": "stream",
          "text": [
            "IMPAIRED DRIVING,DRUG\n",
            "IMPAIRED DRIVING / ALCOHOL\n",
            "IMPAIRED DRIVING, DRUGS\n"
          ],
          "name": "stdout"
        }
      ]
    },
    {
      "cell_type": "markdown",
      "metadata": {
        "id": "wJd2tpSz9PkD"
      },
      "source": [
        "**Data fix: Fix DRUG spelling.**"
      ]
    },
    {
      "cell_type": "code",
      "metadata": {
        "id": "1FEkNPoq9TmH"
      },
      "source": [
        "impair_dict = {\n",
        "    'IMPAIRED DRIVING, DRUGS': 'IMPAIRED DRIVING / DRUG',\n",
        "    'IMPAIRED DRIVING,DRUG': 'IMPAIRED DRIVING / DRUG'\n",
        "}\n",
        "\n",
        "fix = update(fix, columns='PD_DESC', func=impair_dict)"
      ],
      "execution_count": null,
      "outputs": []
    },
    {
      "cell_type": "markdown",
      "metadata": {
        "id": "1OBdAhR3DPMa"
      },
      "source": [
        "**Data fixed test: Test PD_DESC fixed data**"
      ]
    },
    {
      "cell_type": "code",
      "metadata": {
        "colab": {
          "base_uri": "https://localhost:8080/"
        },
        "id": "IxRgQ6a3DUib",
        "outputId": "2619c443-7c5d-4533-9f18-e9120a5fc254"
      },
      "source": [
        "check_fix = fix[fix['PD_DESC'].str.contains('IMPAIRED DRIVING')]\n",
        "assert (all(i not in check_fix['PD_DESC'].unique() for i in impair_dict.keys())), \"PD_DESC is not fixed: \" + check_fix['PD_DESC'].unique()\n",
        "print(\"Successfully fixed: \" + check_fix['PD_DESC'].unique())"
      ],
      "execution_count": null,
      "outputs": [
        {
          "output_type": "stream",
          "text": [
            "['Successfully fixed: IMPAIRED DRIVING / DRUG'\n",
            " 'Successfully fixed: IMPAIRED DRIVING / ALCOHOL']\n"
          ],
          "name": "stdout"
        }
      ]
    },
    {
      "cell_type": "markdown",
      "metadata": {
        "id": "FvOUhSTjiPd9"
      },
      "source": [
        "**Finalize data set: Save data clean file to csv file for analysis.**"
      ]
    },
    {
      "cell_type": "code",
      "metadata": {
        "id": "Xg3HcxfiiXK9"
      },
      "source": [
        "fix.to_csv(r'arrest_data_clean.csv')"
      ],
      "execution_count": null,
      "outputs": []
    }
  ]
}